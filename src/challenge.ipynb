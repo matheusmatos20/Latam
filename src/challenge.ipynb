{
 "cells": [
  {
   "cell_type": "markdown",
   "metadata": {},
   "source": [
    "En este archivo puedes escribir lo que estimes conveniente. Te recomendamos detallar tu solución y todas las suposiciones que estás considerando. Aquí puedes ejecutar las funciones que definiste en los otros archivos de la carpeta src, medir el tiempo, memoria, etc."
   ]
  },
  {
   "cell_type": "markdown",
   "metadata": {},
   "source": [
    "Deste Challenge preferí focar en crear códigos simples y de facil entendimiento y mantenimiento.\n",
    "Confeso que tuve un poco de dificuldad con arquivo, porque me demoré para ver que és un arquivo de jsons (con quebra de linea), yo estaba pensando que era una Lista de jsons, por esto me demoré a conseguir leer\n",
    "\n",
    "En Q1, dejé una posibilitad de resolver problema con SQL caso tivessemos en banco relacionales, creo que los demás no serian performatico porque sql no és tan bueno cuando temos que tratar strings en gran volume.\n",
    "\n",
    "Para Q2 y Q3 la lógica fue muy parecida, creando rutinas de lectura de jsons y contadores.\n",
    "Creo que una melloria que puede ser hecha és crear un arquivo con funciones globais (lectura de json), pues así crearia un codigo más clean y no tenería repeticion.\n",
    "\n",
    "\n",
    "\n"
   ]
  }
 ],
 "metadata": {
  "kernelspec": {
   "display_name": ".venv",
   "language": "python",
   "name": "python3"
  },
  "language_info": {
   "codemirror_mode": {
    "name": "ipython",
    "version": 3
   },
   "file_extension": ".py",
   "mimetype": "text/x-python",
   "name": "python",
   "nbconvert_exporter": "python",
   "pygments_lexer": "ipython3",
   "version": "3.12.7"
  },
  "orig_nbformat": 4
 },
 "nbformat": 4,
 "nbformat_minor": 2
}
